{
 "cells": [
  {
   "cell_type": "code",
   "execution_count": 1,
   "id": "96a43d66-c7b0-47d7-a0dd-89e2199c07ae",
   "metadata": {},
   "outputs": [
    {
     "name": "stdout",
     "output_type": "stream",
     "text": [
      "Collecting images for label: hello\n",
      "Collecting images for label: yes\n"
     ]
    }
   ],
   "source": [
    "import cv2\n",
    "import os\n",
    "import time\n",
    "import uuid\n",
    "\n",
    "IMAGE_PATH = \"Tensorflow/workspace/images/CollectImages\"\n",
    "\n",
    "labels = [\"hello\", \"yes\"]\n",
    "number_img = 15\n",
    "\n",
    "for label in labels:\n",
    "    os.makedirs(os.path.join(IMAGE_PATH, label), exist_ok=True)  # Create directory if it doesn't exist\n",
    "    cap = cv2.VideoCapture(0)\n",
    "    print(\"Collecting images for label: {}\".format(label))\n",
    "    try:\n",
    "        time.sleep(5)  # Wait for 5 seconds before starting to collect images\n",
    "        for imgnum in range(number_img):\n",
    "            ret, frame = cap.read()\n",
    "            imgname = os.path.join(IMAGE_PATH, label, '{}_{}.jpg'.format(label, str(uuid.uuid1())))\n",
    "            cv2.imwrite(imgname, frame)\n",
    "            cv2.imshow('frame', frame)\n",
    "            time.sleep(2)\n",
    "            if cv2.waitKey(1) & 0xFF == ord('q'):  # Press 'q' to quit capturing images\n",
    "                break\n",
    "    except KeyboardInterrupt:\n",
    "        print(\"Program interrupted!\")\n",
    "    cap.release()\n",
    "    cv2.destroyAllWindows()\n"
   ]
  },
  {
   "cell_type": "code",
   "execution_count": null,
   "id": "eb9f27a5-4db5-4c7e-a221-4df38776a0b2",
   "metadata": {},
   "outputs": [],
   "source": []
  }
 ],
 "metadata": {
  "kernelspec": {
   "display_name": "Python 3 (ipykernel)",
   "language": "python",
   "name": "python3"
  },
  "language_info": {
   "codemirror_mode": {
    "name": "ipython",
    "version": 3
   },
   "file_extension": ".py",
   "mimetype": "text/x-python",
   "name": "python",
   "nbconvert_exporter": "python",
   "pygments_lexer": "ipython3",
   "version": "3.8.7"
  }
 },
 "nbformat": 4,
 "nbformat_minor": 5
}
